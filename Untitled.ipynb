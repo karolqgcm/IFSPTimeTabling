{
 "cells": [
  {
   "cell_type": "code",
   "execution_count": 4,
   "metadata": {},
   "outputs": [
    {
     "name": "stdout",
     "output_type": "stream",
     "text": [
      "[[64, 84, 52, 74, 36, 57], [99, 24, 1, 28, 91, 67], [57, 93, 81, 35, 74, 51], [72, 53, 12, 36, 93, 92], [9, 10, 35, 63, 41, 76], [62, 6, 36, 40, 74, 20], [66, 76, 52, 57, 32, 99], [18, 21, 33, 44, 75, 46], [5, 96, 24, 40, 11, 93], [41, 2, 61, 46, 25, 41], [97, 83, 87, 58, 67, 29], [82, 0, 28, 68, 24, 49], [32, 55, 24, 86, 3, 50], [2, 33, 98, 19, 55, 62], [32, 21, 81, 23, 53, 5], [47, 51, 91, 81, 94, 70], [58, 44, 54, 50, 86, 59], [96, 39, 88, 76, 99, 67], [25, 0, 5, 14, 81, 58], [95, 20, 0, 73, 59, 58], [89, 1, 64, 79, 37, 84], [71, 68, 78, 62, 59, 28], [44, 4, 37, 88, 66, 30], [10, 14, 94, 93, 35, 6], [19, 42, 45, 89, 13, 69], [34, 66, 98, 35, 81, 76], [15, 90, 62, 44, 36, 69], [41, 26, 74, 4, 28, 58], [79, 57, 12, 52, 27, 86], [23, 57, 1, 3, 55, 35], [42, 7, 22, 54, 30, 71], [91, 34, 10, 64, 80, 92], [77, 89, 16, 2, 20, 9], [95, 63, 80, 73, 55, 22], [58, 67, 49, 93, 85, 12], [20, 41, 22, 27, 84, 77], [63, 34, 5, 27, 55, 7], [72, 70, 39, 21, 45, 33], [46, 97, 15, 63, 24, 21], [16, 15, 19, 90, 70, 14], [46, 64, 17, 34, 62, 90], [66, 35, 12, 61, 41, 21], [80, 77, 80, 46, 27, 31], [55, 89, 79, 44, 74, 66], [96, 75, 54, 74, 12, 14], [6, 24, 8, 16, 67, 13], [49, 11, 12, 3, 13, 46], [72, 50, 15, 12, 73, 100], [90, 44, 41, 44, 66, 46], [18, 4, 34, 55, 12, 27], [67, 97, 88, 78, 97, 35], [87, 54, 40, 82, 85, 17], [63, 30, 79, 74, 81, 11], [42, 68, 75, 17, 58, 72], [69, 7, 22, 87, 37, 23], [63, 82, 67, 91, 22, 93], [38, 68, 53, 26, 73, 96], [100, 64, 3, 44, 60, 30], [10, 82, 65, 64, 4, 73], [35, 44, 63, 35, 68, 22], [82, 11, 13, 28, 15, 11], [11, 5, 30, 42, 55, 64], [81, 78, 2, 88, 85, 95], [29, 62, 57, 44, 55, 11], [72, 97, 17, 37, 49, 37], [86, 58, 6, 20, 44, 47], [69, 60, 23, 51, 44, 67], [2, 24, 21, 77, 15, 48], [78, 77, 43, 13, 63, 95], [48, 18, 23, 87, 69, 30], [18, 96, 68, 35, 66, 28], [60, 77, 71, 31, 46, 87], [1, 22, 81, 99, 95, 90], [23, 62, 5, 33, 10, 33], [90, 72, 93, 90, 28, 34], [76, 2, 93, 18, 2, 33], [73, 67, 10, 57, 6, 48], [22, 1, 0, 6, 46, 78], [32, 29, 82, 95, 22, 90], [75, 20, 51, 27, 37, 38], [91, 71, 53, 81, 62, 2], [18, 54, 0, 82, 2, 37], [27, 92, 48, 94, 42, 87], [58, 42, 62, 13, 25, 51], [15, 97, 100, 96, 89, 71], [37, 38, 89, 25, 65, 18], [53, 73, 89, 93, 28, 79], [66, 87, 16, 93, 87, 94], [3, 76, 46, 42, 100, 64], [24, 80, 69, 38, 20, 53], [72, 84, 57, 99, 41, 100], [17, 75, 39, 70, 64, 93], [19, 66, 46, 88, 61, 42], [54, 5, 17, 38, 75, 12], [73, 24, 16, 94, 52, 88], [8, 54, 71, 65, 70, 13], [29, 73, 63, 99, 82, 10], [100, 19, 10, 100, 57, 78], [70, 50, 12, 10, 74, 87], [63, 37, 74, 45, 24, 43]]\n"
     ]
    },
    {
     "ename": "TypeError",
     "evalue": "slice indices must be integers or None or have an __index__ method",
     "output_type": "error",
     "traceback": [
      "\u001b[0;31m---------------------------------------------------------------------------\u001b[0m",
      "\u001b[0;31mTypeError\u001b[0m                                 Traceback (most recent call last)",
      "\u001b[0;32m<ipython-input-4-b35e0792c5b1>\u001b[0m in \u001b[0;36m<module>\u001b[0;34m()\u001b[0m\n\u001b[1;32m     70\u001b[0m \u001b[0mfitness_history\u001b[0m \u001b[0;34m=\u001b[0m \u001b[0;34m[\u001b[0m\u001b[0mgrade\u001b[0m\u001b[0;34m(\u001b[0m\u001b[0mp\u001b[0m\u001b[0;34m,\u001b[0m \u001b[0mtarget\u001b[0m\u001b[0;34m)\u001b[0m\u001b[0;34m,\u001b[0m\u001b[0;34m]\u001b[0m\u001b[0;34m\u001b[0m\u001b[0m\n\u001b[1;32m     71\u001b[0m \u001b[0;32mfor\u001b[0m \u001b[0mi\u001b[0m \u001b[0;32min\u001b[0m \u001b[0mrange\u001b[0m\u001b[0;34m(\u001b[0m\u001b[0;36m100\u001b[0m\u001b[0;34m)\u001b[0m\u001b[0;34m:\u001b[0m\u001b[0;34m\u001b[0m\u001b[0m\n\u001b[0;32m---> 72\u001b[0;31m     \u001b[0mp\u001b[0m \u001b[0;34m=\u001b[0m \u001b[0mevolve\u001b[0m\u001b[0;34m(\u001b[0m\u001b[0mp\u001b[0m\u001b[0;34m,\u001b[0m \u001b[0mtarget\u001b[0m\u001b[0;34m)\u001b[0m\u001b[0;34m\u001b[0m\u001b[0m\n\u001b[0m\u001b[1;32m     73\u001b[0m     \u001b[0mfitness_history\u001b[0m\u001b[0;34m.\u001b[0m\u001b[0mappend\u001b[0m\u001b[0;34m(\u001b[0m\u001b[0mgrade\u001b[0m\u001b[0;34m(\u001b[0m\u001b[0mp\u001b[0m\u001b[0;34m,\u001b[0m \u001b[0mtarget\u001b[0m\u001b[0;34m)\u001b[0m\u001b[0;34m)\u001b[0m\u001b[0;34m\u001b[0m\u001b[0m\n\u001b[1;32m     74\u001b[0m \u001b[0;34m\u001b[0m\u001b[0m\n",
      "\u001b[0;32m<ipython-input-4-b35e0792c5b1>\u001b[0m in \u001b[0;36mevolve\u001b[0;34m(pop, target, retain, random_select, mutate)\u001b[0m\n\u001b[1;32m     57\u001b[0m             \u001b[0mfemale\u001b[0m \u001b[0;34m=\u001b[0m \u001b[0mparents\u001b[0m\u001b[0;34m[\u001b[0m\u001b[0mfemale\u001b[0m\u001b[0;34m]\u001b[0m\u001b[0;34m\u001b[0m\u001b[0m\n\u001b[1;32m     58\u001b[0m             \u001b[0mhalf\u001b[0m \u001b[0;34m=\u001b[0m \u001b[0mlen\u001b[0m\u001b[0;34m(\u001b[0m\u001b[0mmale\u001b[0m\u001b[0;34m)\u001b[0m \u001b[0;34m/\u001b[0m \u001b[0;36m2\u001b[0m\u001b[0;34m\u001b[0m\u001b[0m\n\u001b[0;32m---> 59\u001b[0;31m             \u001b[0mchild\u001b[0m \u001b[0;34m=\u001b[0m \u001b[0mmale\u001b[0m\u001b[0;34m[\u001b[0m\u001b[0;34m:\u001b[0m\u001b[0mhalf\u001b[0m\u001b[0;34m]\u001b[0m \u001b[0;34m+\u001b[0m \u001b[0mfemale\u001b[0m\u001b[0;34m[\u001b[0m\u001b[0mhalf\u001b[0m\u001b[0;34m:\u001b[0m\u001b[0;34m]\u001b[0m\u001b[0;34m\u001b[0m\u001b[0m\n\u001b[0m\u001b[1;32m     60\u001b[0m             \u001b[0mchildren\u001b[0m\u001b[0;34m.\u001b[0m\u001b[0mappend\u001b[0m\u001b[0;34m(\u001b[0m\u001b[0mchild\u001b[0m\u001b[0;34m)\u001b[0m\u001b[0;34m\u001b[0m\u001b[0m\n\u001b[1;32m     61\u001b[0m     \u001b[0mparents\u001b[0m\u001b[0;34m.\u001b[0m\u001b[0mextend\u001b[0m\u001b[0;34m(\u001b[0m\u001b[0mchildren\u001b[0m\u001b[0;34m)\u001b[0m\u001b[0;34m\u001b[0m\u001b[0m\n",
      "\u001b[0;31mTypeError\u001b[0m: slice indices must be integers or None or have an __index__ method"
     ]
    }
   ],
   "source": [
    "from random import random, randint\n",
    "from operator import add\n",
    "from functools import reduce\n",
    "\n",
    "def individual(length, min, max):\n",
    "    'Create a member of the population.'\n",
    "    member = [randint(min, max) for x in range (length)]\n",
    "    \n",
    "    return member\n",
    "\n",
    "individual(5, 0, 200)\n",
    "\n",
    "def population(count, length, min, max):\n",
    "    generation = [individual(length, min, max) for x in range(count)]\n",
    "    print(generation)\n",
    "    return generation\n",
    "\n",
    "\n",
    "def fitness(individual, target):\n",
    "    sum = reduce(add, individual, 0)\n",
    "    return abs(target-sum)\n",
    "\n",
    "\n",
    "def grade(pop, target):\n",
    "    summed = reduce(add, (fitness(x, target) for x in pop), 0)\n",
    "    return summed/(len(pop)*1.0)\n",
    "\n",
    "def evolve(pop, target, retain=0.2, random_select=0.05, mutate=0.01):\n",
    "    graded = [ (fitness(x, target), x) for x in pop]\n",
    "    graded = [ x[1] for x in sorted(graded)]\n",
    "    retain_length = int(len(graded)*retain)\n",
    "    parents = graded[:retain_length]\n",
    "    # randomly add other individuals to\n",
    "    # promote genetic diversity\n",
    "    for individual in graded[retain_length:]:\n",
    "        if random_select > random():\n",
    "            parents.append(individual)\n",
    "    # mutate some individuals\n",
    "    for individual in parents:\n",
    "        if mutate > random():\n",
    "            pos_to_mutate = randint(0, len(individual)-1)\n",
    "            # this mutation is not ideal, because it\n",
    "            # restricts the range of possible values,\n",
    "            # but the function is unaware of the min/max\n",
    "            # values used to create the individuals,\n",
    "            individual[pos_to_mutate] = randint(\n",
    "                min(individual), max(individual))\n",
    "    # crossover parents to create children\n",
    "    parents_length = len(parents)\n",
    "    desired_length = len(pop) - parents_length\n",
    "    children = []\n",
    "    while len(children) < desired_length:\n",
    "        male = randint(0, parents_length-1)\n",
    "        female = randint(0, parents_length-1)\n",
    "        if male != female:\n",
    "            male = parents[male]\n",
    "            female = parents[female]\n",
    "            half = len(male) / 2\n",
    "            child = male[:half] + female[half:]\n",
    "            children.append(child)        \n",
    "    parents.extend(children)\n",
    "    return parents\n",
    "\n",
    "target = 371\n",
    "p_count = 100\n",
    "i_length = 6\n",
    "i_min = 0\n",
    "i_max = 100\n",
    "p = population(p_count, i_length, i_min, i_max)\n",
    "fitness_history = [grade(p, target),]\n",
    "for i in range(100):\n",
    "    p = evolve(p, target)\n",
    "    fitness_history.append(grade(p, target))\n",
    "\n",
    "for datum in fitness_history:\n",
    "    print (datum)"
   ]
  },
  {
   "cell_type": "code",
   "execution_count": null,
   "metadata": {
    "collapsed": true
   },
   "outputs": [],
   "source": []
  },
  {
   "cell_type": "code",
   "execution_count": null,
   "metadata": {
    "collapsed": true
   },
   "outputs": [],
   "source": []
  },
  {
   "cell_type": "code",
   "execution_count": null,
   "metadata": {
    "collapsed": true
   },
   "outputs": [],
   "source": []
  },
  {
   "cell_type": "code",
   "execution_count": null,
   "metadata": {
    "collapsed": true
   },
   "outputs": [],
   "source": []
  }
 ],
 "metadata": {
  "kernelspec": {
   "display_name": "Python 3",
   "language": "python",
   "name": "python3"
  },
  "language_info": {
   "codemirror_mode": {
    "name": "ipython",
    "version": 3
   },
   "file_extension": ".py",
   "mimetype": "text/x-python",
   "name": "python",
   "nbconvert_exporter": "python",
   "pygments_lexer": "ipython3",
   "version": "3.5.2"
  }
 },
 "nbformat": 4,
 "nbformat_minor": 2
}
