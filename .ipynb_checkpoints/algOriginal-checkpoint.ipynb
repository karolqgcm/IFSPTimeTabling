{
 "cells": [
  {
   "cell_type": "code",
   "execution_count": 18,
   "metadata": {},
   "outputs": [
    {
     "name": "stdout",
     "output_type": "stream",
     "text": [
      "15\n",
      "18\n",
      "16\n",
      "21\n",
      "32\n",
      "[0, 3, 4, 8] 15\n",
      "[4, 4, 8, 2] 18\n",
      "[6, 1, 4, 5] 16\n",
      "[5, 6, 2, 8] 21\n",
      "[10, 8, 6, 8] 32\n",
      "child\n",
      "[10, 8, 4, 5] 27\n"
     ]
    },
    {
     "data": {
      "text/plain": [
       "([10, 8, 4, 10], 32)"
      ]
     },
     "execution_count": 18,
     "metadata": {},
     "output_type": "execute_result"
    }
   ],
   "source": [
    "from random import randint\n",
    "from functools import reduce\n",
    "\n",
    "def createIndividual(length, min, max):\n",
    "    individual = [randint(min,max) for x in range(length)]\n",
    "    return individual\n",
    "\n",
    "def createPopulation(numberIndividuals, length, min, max):\n",
    "    population = [createIndividual(length, min, max) for x in range(numberIndividuals)]\n",
    "    return population\n",
    "\n",
    "def mostFitPopulation(population):\n",
    "    \"\"\"reduzir cada individuo da populaçao para ver quem tem o maior valor (meu fitness=maior valor) e retorna-lo\"\"\"\n",
    "    maxFit= 0\n",
    "    bestOne = None\n",
    "    for individual in population:\n",
    "        temp = reduce(lambda x,y: x+y, individual)\n",
    "        print(individual, temp)\n",
    "        if(temp > maxFit):\n",
    "            maxFit =temp\n",
    "            bestOne = individual\n",
    "    return (bestOne, maxFit)\n",
    "\n",
    "def fitness(individual):\n",
    "    fit= reduce(lambda x,y:x+y, individual)\n",
    "    return fit\n",
    "\n",
    "\n",
    "def findingParents(population):\n",
    "    fitParent1= 0    \n",
    "    parent1 = None\n",
    "    fitParent2 =0\n",
    "    parent2 = None\n",
    "    for individual in population:\n",
    "        temp = reduce(lambda x,y: x+y, individual)\n",
    "        print(individual, temp)\n",
    "        if(temp > fitParent1):\n",
    "            fitParent1 =temp\n",
    "            parent1 = individual\n",
    "        elif(temp > fitParent2):\n",
    "            fitParent2 = temp\n",
    "            parent2 = individual\n",
    "    return (parent1 ,parent2)\n",
    "\n",
    "def crossOver(parent1, parent2):\n",
    "    child = parent1[:2]+parent2[2:]\n",
    "    print(\"child\")\n",
    "    print(child, fitness(child))\n",
    "    return (child)\n",
    "\"\"\"fazer a mutação\"\"\"\n",
    "\n",
    "def mutation(individual, min, max):\n",
    "    individual[len(individual)-1]=randint(min,max)\n",
    "    return (individual, fitness(individual))\n",
    "\n",
    "def evolution(population):\n",
    "    \n",
    "#fazer crossOver\n",
    "#fazer mutacao\n",
    "#remover os com fit baixo\n",
    "\n",
    "minimo=0\n",
    "maximo=10\n",
    "population = createPopulation(5, 4,minimo, maximo)\n",
    "for individual in population:\n",
    "    fit  = fitness(individual)\n",
    "    print(fit)\n",
    "\n",
    "parents = findingParents(population)\n",
    "child = crossOver(parents[0],parents[1])\n",
    "mutation(child, minimo, maximo)"
   ]
  },
  {
   "cell_type": "code",
   "execution_count": 14,
   "metadata": {},
   "outputs": [
    {
     "name": "stdout",
     "output_type": "stream",
     "text": [
      "[1, 2, 3]\n",
      "[1, 2, 16]\n"
     ]
    }
   ],
   "source": [
    "from random import randint\n",
    "x = [1,2,3]\n",
    "print (x)\n",
    "x[len(x)-1]=randint(10,30)\n",
    "print (x)"
   ]
  },
  {
   "cell_type": "code",
   "execution_count": null,
   "metadata": {
    "collapsed": true
   },
   "outputs": [],
   "source": [
    "dictProfessores = [\n",
    "    {\"nome\": \"Nelson\", \"materias\": [\"SEG\", \"DW2\"], \"disponivel\": 8}\n",
    "]\n",
    "\n",
    "x=(item for item in dictProfessores if item[\"nome\"] == \"Nelson\").next()\n",
    "\n",
    "print(x[\"materias\"])"
   ]
  },
  {
   "cell_type": "code",
   "execution_count": null,
   "metadata": {
    "collapsed": true
   },
   "outputs": [],
   "source": []
  },
  {
   "cell_type": "code",
   "execution_count": null,
   "metadata": {
    "collapsed": true
   },
   "outputs": [],
   "source": []
  },
  {
   "cell_type": "code",
   "execution_count": null,
   "metadata": {
    "collapsed": true
   },
   "outputs": [],
   "source": []
  },
  {
   "cell_type": "code",
   "execution_count": null,
   "metadata": {
    "collapsed": true
   },
   "outputs": [],
   "source": []
  },
  {
   "cell_type": "code",
   "execution_count": null,
   "metadata": {
    "collapsed": true
   },
   "outputs": [],
   "source": []
  },
  {
   "cell_type": "code",
   "execution_count": null,
   "metadata": {
    "collapsed": true
   },
   "outputs": [],
   "source": []
  },
  {
   "cell_type": "code",
   "execution_count": null,
   "metadata": {
    "collapsed": true
   },
   "outputs": [],
   "source": []
  },
  {
   "cell_type": "code",
   "execution_count": null,
   "metadata": {
    "collapsed": true
   },
   "outputs": [],
   "source": []
  },
  {
   "cell_type": "code",
   "execution_count": null,
   "metadata": {
    "collapsed": true
   },
   "outputs": [],
   "source": []
  },
  {
   "cell_type": "code",
   "execution_count": null,
   "metadata": {
    "collapsed": true
   },
   "outputs": [],
   "source": []
  },
  {
   "cell_type": "code",
   "execution_count": null,
   "metadata": {
    "collapsed": true
   },
   "outputs": [],
   "source": []
  },
  {
   "cell_type": "code",
   "execution_count": null,
   "metadata": {
    "collapsed": true
   },
   "outputs": [],
   "source": []
  },
  {
   "cell_type": "code",
   "execution_count": null,
   "metadata": {
    "collapsed": true
   },
   "outputs": [],
   "source": []
  },
  {
   "cell_type": "code",
   "execution_count": null,
   "metadata": {
    "collapsed": true
   },
   "outputs": [],
   "source": []
  },
  {
   "cell_type": "code",
   "execution_count": null,
   "metadata": {
    "collapsed": true
   },
   "outputs": [],
   "source": []
  },
  {
   "cell_type": "code",
   "execution_count": null,
   "metadata": {
    "collapsed": true
   },
   "outputs": [],
   "source": []
  },
  {
   "cell_type": "code",
   "execution_count": null,
   "metadata": {
    "collapsed": true
   },
   "outputs": [],
   "source": []
  },
  {
   "cell_type": "code",
   "execution_count": null,
   "metadata": {
    "collapsed": true
   },
   "outputs": [],
   "source": []
  },
  {
   "cell_type": "code",
   "execution_count": null,
   "metadata": {
    "collapsed": true
   },
   "outputs": [],
   "source": []
  },
  {
   "cell_type": "code",
   "execution_count": null,
   "metadata": {
    "collapsed": true
   },
   "outputs": [],
   "source": []
  },
  {
   "cell_type": "code",
   "execution_count": null,
   "metadata": {
    "collapsed": true
   },
   "outputs": [],
   "source": []
  },
  {
   "cell_type": "code",
   "execution_count": null,
   "metadata": {
    "collapsed": true
   },
   "outputs": [],
   "source": []
  },
  {
   "cell_type": "code",
   "execution_count": null,
   "metadata": {
    "collapsed": true
   },
   "outputs": [],
   "source": []
  },
  {
   "cell_type": "code",
   "execution_count": null,
   "metadata": {
    "collapsed": true
   },
   "outputs": [],
   "source": []
  },
  {
   "cell_type": "code",
   "execution_count": null,
   "metadata": {
    "collapsed": true
   },
   "outputs": [],
   "source": []
  },
  {
   "cell_type": "code",
   "execution_count": null,
   "metadata": {
    "collapsed": true
   },
   "outputs": [],
   "source": []
  },
  {
   "cell_type": "code",
   "execution_count": null,
   "metadata": {
    "collapsed": true
   },
   "outputs": [],
   "source": []
  },
  {
   "cell_type": "code",
   "execution_count": 5,
   "metadata": {},
   "outputs": [
    {
     "name": "stdout",
     "output_type": "stream",
     "text": [
      "6\n",
      "-6\n"
     ]
    }
   ],
   "source": [
    "from functools import reduce\n",
    "\n",
    "def x(i):\n",
    "    for k in i:\n",
    "        print(reduce(lambda x,y: x+y,k))\n",
    "\n",
    "x([[1,2,3],[-1,-2,-3]])"
   ]
  },
  {
   "cell_type": "code",
   "execution_count": null,
   "metadata": {
    "collapsed": true
   },
   "outputs": [],
   "source": []
  }
 ],
 "metadata": {
  "kernelspec": {
   "display_name": "Python 3",
   "language": "python",
   "name": "python3"
  },
  "language_info": {
   "codemirror_mode": {
    "name": "ipython",
    "version": 3
   },
   "file_extension": ".py",
   "mimetype": "text/x-python",
   "name": "python",
   "nbconvert_exporter": "python",
   "pygments_lexer": "ipython3",
   "version": "3.5.2"
  }
 },
 "nbformat": 4,
 "nbformat_minor": 2
}
