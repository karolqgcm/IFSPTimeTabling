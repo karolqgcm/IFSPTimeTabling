{
 "cells": [
  {
   "cell_type": "code",
   "execution_count": 18,
   "metadata": {},
   "outputs": [
    {
     "name": "stdout",
     "output_type": "stream",
     "text": [
      "15\n",
      "18\n",
      "16\n",
      "21\n",
      "32\n",
      "[0, 3, 4, 8] 15\n",
      "[4, 4, 8, 2] 18\n",
      "[6, 1, 4, 5] 16\n",
      "[5, 6, 2, 8] 21\n",
      "[10, 8, 6, 8] 32\n",
      "child\n",
      "[10, 8, 4, 5] 27\n"
     ]
    },
    {
     "data": {
      "text/plain": [
       "([10, 8, 4, 10], 32)"
      ]
     },
     "execution_count": 18,
     "metadata": {},
     "output_type": "execute_result"
    }
   ],
   "source": [
    "from random import randint\n",
    "from functools import reduce\n",
    "\n",
    "def createIndividual(length, min, max):\n",
    "    individual = [randint(min,max) for x in range(length)]\n",
    "    return individual\n",
    "\n",
    "def createPopulation(numberIndividuals, length, min, max):\n",
    "    population = [createIndividual(length, min, max) for x in range(numberIndividuals)]\n",
    "    return population\n",
    "\n",
    "def mostFitPopulation(population):\n",
    "    \"\"\"reduzir cada individuo da populaçao para ver quem tem o maior valor (meu fitness=maior valor) e retorna-lo\"\"\"\n",
    "    maxFit= 0\n",
    "    bestOne = None\n",
    "    for individual in population:\n",
    "        temp = reduce(lambda x,y: x+y, individual)\n",
    "        print(individual, temp)\n",
    "        if(temp > maxFit):\n",
    "            maxFit =temp\n",
    "            bestOne = individual\n",
    "    return (bestOne, maxFit)\n",
    "\n",
    "def fitness(individual):\n",
    "    fit= reduce(lambda x,y:x+y, individual)\n",
    "    return fit\n",
    "\n",
    "\n",
    "def findingParents(population):\n",
    "    fitParent1= 0    \n",
    "    parent1 = None\n",
    "    fitParent2 =0\n",
    "    parent2 = None\n",
    "    for individual in population:\n",
    "        temp = reduce(lambda x,y: x+y, individual)\n",
    "        print(individual, temp)\n",
    "        if(temp > fitParent1):\n",
    "            fitParent1 =temp\n",
    "            parent1 = individual\n",
    "        elif(temp > fitParent2):\n",
    "            fitParent2 = temp\n",
    "            parent2 = individual\n",
    "    return (parent1 ,parent2)\n",
    "\n",
    "def crossOver(parent1, parent2):\n",
    "    child = parent1[:2]+parent2[2:]\n",
    "    print(\"child\")\n",
    "    print(child, fitness(child))\n",
    "    return (child)\n",
    "\"\"\"fazer a mutação\"\"\"\n",
    "\n",
    "def mutation(individual, min, max):\n",
    "    individual[len(individual)-1]=randint(min,max)\n",
    "    return (individual, fitness(individual))\n",
    "\n",
    "def evolution(population):\n",
    "    \n",
    "#fazer crossOver\n",
    "#fazer mutacao\n",
    "#remover os com fit baixo\n",
    "\n",
    "minimo=0\n",
    "maximo=10\n",
    "population = createPopulation(5, 4,minimo, maximo)\n",
    "for individual in population:\n",
    "    fit  = fitness(individual)\n",
    "    print(fit)\n",
    "\n",
    "parents = findingParents(population)\n",
    "child = crossOver(parents[0],parents[1])\n",
    "mutation(child, minimo, maximo)"
   ]
  },
  {
   "cell_type": "code",
   "execution_count": 14,
   "metadata": {},
   "outputs": [
    {
     "name": "stdout",
     "output_type": "stream",
     "text": [
      "[1, 2, 3]\n",
      "[1, 2, 16]\n"
     ]
    }
   ],
   "source": [
    "from random import randint\n",
    "x = [1,2,3]\n",
    "print (x)\n",
    "x[len(x)-1]=randint(10,30)\n",
    "print (x)"
   ]
  },
  {
   "cell_type": "code",
   "execution_count": 21,
   "metadata": {},
   "outputs": [
    {
     "ename": "AttributeError",
     "evalue": "'generator' object has no attribute 'next'",
     "output_type": "error",
     "traceback": [
      "\u001b[0;31m---------------------------------------------------------------------------\u001b[0m",
      "\u001b[0;31mAttributeError\u001b[0m                            Traceback (most recent call last)",
      "\u001b[0;32m<ipython-input-21-23682db5f538>\u001b[0m in \u001b[0;36m<module>\u001b[0;34m()\u001b[0m\n\u001b[1;32m      2\u001b[0m     \u001b[0;34m{\u001b[0m\u001b[0;34m\"nome\"\u001b[0m\u001b[0;34m:\u001b[0m \u001b[0;34m\"Nelson\"\u001b[0m\u001b[0;34m,\u001b[0m \u001b[0;34m\"materias\"\u001b[0m\u001b[0;34m:\u001b[0m \u001b[0;34m[\u001b[0m\u001b[0;34m\"SEG\"\u001b[0m\u001b[0;34m,\u001b[0m \u001b[0;34m\"DW2\"\u001b[0m\u001b[0;34m]\u001b[0m\u001b[0;34m,\u001b[0m \u001b[0;34m\"disponivel\"\u001b[0m\u001b[0;34m:\u001b[0m \u001b[0;36m8\u001b[0m\u001b[0;34m}\u001b[0m\u001b[0;34m\u001b[0m\u001b[0m\n\u001b[1;32m      3\u001b[0m ]\n\u001b[0;32m----> 4\u001b[0;31m \u001b[0mmaterias\u001b[0m\u001b[0;34m=\u001b[0m\u001b[0;34m(\u001b[0m\u001b[0mitem\u001b[0m\u001b[0;34m[\u001b[0m\u001b[0;34m\"materias\"\u001b[0m\u001b[0;34m]\u001b[0m \u001b[0;32mfor\u001b[0m \u001b[0mitem\u001b[0m \u001b[0;32min\u001b[0m \u001b[0mdictProfessores\u001b[0m \u001b[0;32mif\u001b[0m \u001b[0mitem\u001b[0m\u001b[0;34m[\u001b[0m\u001b[0;34m\"nome\"\u001b[0m\u001b[0;34m]\u001b[0m \u001b[0;34m==\u001b[0m \u001b[0;34m\"Nelson\"\u001b[0m\u001b[0;34m)\u001b[0m\u001b[0;34m.\u001b[0m\u001b[0mnext\u001b[0m\u001b[0;34m(\u001b[0m\u001b[0;34m)\u001b[0m\u001b[0;34m\u001b[0m\u001b[0m\n\u001b[0m\u001b[1;32m      5\u001b[0m \u001b[0;34m\u001b[0m\u001b[0m\n\u001b[1;32m      6\u001b[0m \u001b[0mprint\u001b[0m\u001b[0;34m(\u001b[0m\u001b[0mmaterias\u001b[0m\u001b[0;34m)\u001b[0m\u001b[0;34m\u001b[0m\u001b[0m\n",
      "\u001b[0;31mAttributeError\u001b[0m: 'generator' object has no attribute 'next'"
     ]
    }
   ],
   "source": [
    "dictProfessores = [\n",
    "    {\"nome\": \"Nelson\", \"materias\": [\"SEG\", \"DW2\"], \"disponivel\": 8}\n",
    "]\n",
    "materias=(item[\"materias\"] for item in dictProfessores if item[\"nome\"] == \"Nelson\").next()\n",
    "\n",
    "print(materias)"
   ]
  },
  {
   "cell_type": "code",
   "execution_count": 8,
   "metadata": {},
   "outputs": [
    {
     "ename": "AttributeError",
     "evalue": "'generator' object has no attribute 'next'",
     "output_type": "error",
     "traceback": [
      "\u001b[0;31m---------------------------------------------------------------------------\u001b[0m",
      "\u001b[0;31mAttributeError\u001b[0m                            Traceback (most recent call last)",
      "\u001b[0;32m<ipython-input-8-d1f8354110a5>\u001b[0m in \u001b[0;36m<module>\u001b[0;34m()\u001b[0m\n\u001b[1;32m      1\u001b[0m \u001b[0;32mimport\u001b[0m \u001b[0mversao1ex1\u001b[0m \u001b[0;32mas\u001b[0m \u001b[0mv\u001b[0m\u001b[0;34m\u001b[0m\u001b[0m\n\u001b[1;32m      2\u001b[0m \u001b[0;34m\u001b[0m\u001b[0m\n\u001b[0;32m----> 3\u001b[0;31m \u001b[0mprint\u001b[0m \u001b[0;34m(\u001b[0m\u001b[0mv\u001b[0m\u001b[0;34m.\u001b[0m\u001b[0mcriarG1\u001b[0m\u001b[0;34m(\u001b[0m\u001b[0;36m20\u001b[0m\u001b[0;34m,\u001b[0m\u001b[0;36m10\u001b[0m\u001b[0;34m,\u001b[0m\u001b[0;36m10\u001b[0m\u001b[0;34m,\u001b[0m\u001b[0;36m10\u001b[0m\u001b[0;34m)\u001b[0m\u001b[0;34m)\u001b[0m\u001b[0;34m\u001b[0m\u001b[0m\n\u001b[0m",
      "\u001b[0;32m~/Desktop/Share/python_notebooks/courseTimeTabling/versao1ex1.py\u001b[0m in \u001b[0;36mcriarG1\u001b[0;34m(nIndividuosPopInicial, nCruzamentos, porcentagemMutacao, nGeracoes)\u001b[0m\n\u001b[1;32m    112\u001b[0m     \u001b[0mgeracao\u001b[0m \u001b[0;34m=\u001b[0m \u001b[0;36m0\u001b[0m\u001b[0;34m\u001b[0m\u001b[0m\n\u001b[1;32m    113\u001b[0m     \u001b[0mpopulacao\u001b[0m \u001b[0;34m=\u001b[0m \u001b[0mcriarPopulacaoInicialG1\u001b[0m\u001b[0;34m(\u001b[0m\u001b[0mnIndividuosPopInicial\u001b[0m\u001b[0;34m)\u001b[0m\u001b[0;34m\u001b[0m\u001b[0m\n\u001b[0;32m--> 114\u001b[0;31m     \u001b[0mfitnessG1\u001b[0m\u001b[0;34m(\u001b[0m\u001b[0mpopulacao\u001b[0m\u001b[0;34m)\u001b[0m\u001b[0;34m\u001b[0m\u001b[0m\n\u001b[0m\u001b[1;32m    115\u001b[0m \u001b[0;34m\u001b[0m\u001b[0m\n\u001b[1;32m    116\u001b[0m     \u001b[0mf\u001b[0m\u001b[0;34m.\u001b[0m\u001b[0mwrite\u001b[0m\u001b[0;34m(\u001b[0m\u001b[0;34m\"DADOS DA GERAÇÃO #\"\u001b[0m \u001b[0;34m+\u001b[0m \u001b[0mstr\u001b[0m\u001b[0;34m(\u001b[0m\u001b[0mgeracao\u001b[0m\u001b[0;34m)\u001b[0m\u001b[0;34m+\u001b[0m\u001b[0;34m'\\n'\u001b[0m\u001b[0;34m)\u001b[0m\u001b[0;34m\u001b[0m\u001b[0m\n",
      "\u001b[0;32m~/Desktop/Share/python_notebooks/courseTimeTabling/versao1ex1.py\u001b[0m in \u001b[0;36mfitnessG1\u001b[0;34m(populacao)\u001b[0m\n\u001b[1;32m     93\u001b[0m             \u001b[0mindividuo\u001b[0m\u001b[0;34m[\u001b[0m\u001b[0;36m2\u001b[0m\u001b[0;34m]\u001b[0m \u001b[0;34m-=\u001b[0m \u001b[0;36m30\u001b[0m\u001b[0;34m\u001b[0m\u001b[0m\n\u001b[1;32m     94\u001b[0m         \u001b[0;32mfor\u001b[0m \u001b[0mi\u001b[0m \u001b[0;32min\u001b[0m \u001b[0mrange\u001b[0m\u001b[0;34m(\u001b[0m\u001b[0;36m2\u001b[0m\u001b[0;34m)\u001b[0m\u001b[0;34m:\u001b[0m\u001b[0;34m\u001b[0m\u001b[0m\n\u001b[0;32m---> 95\u001b[0;31m             \u001b[0mmaterias\u001b[0m\u001b[0;34m=\u001b[0m\u001b[0;34m(\u001b[0m\u001b[0mitem\u001b[0m\u001b[0;34m[\u001b[0m\u001b[0;34m\"materias\"\u001b[0m\u001b[0;34m]\u001b[0m \u001b[0;32mfor\u001b[0m \u001b[0mitem\u001b[0m \u001b[0;32min\u001b[0m \u001b[0mdictProfessores\u001b[0m \u001b[0;32mif\u001b[0m \u001b[0mitem\u001b[0m\u001b[0;34m[\u001b[0m\u001b[0;34m\"nome\"\u001b[0m\u001b[0;34m]\u001b[0m \u001b[0;34m==\u001b[0m \u001b[0mindividuo\u001b[0m\u001b[0;34m[\u001b[0m\u001b[0mi\u001b[0m\u001b[0;34m]\u001b[0m\u001b[0;34m[\u001b[0m\u001b[0;36m0\u001b[0m\u001b[0;34m]\u001b[0m\u001b[0;34m)\u001b[0m\u001b[0;34m.\u001b[0m\u001b[0mnext\u001b[0m\u001b[0;34m(\u001b[0m\u001b[0;34m)\u001b[0m\u001b[0;34m\u001b[0m\u001b[0m\n\u001b[0m\u001b[1;32m     96\u001b[0m             \u001b[0;32mfor\u001b[0m \u001b[0mmateria\u001b[0m \u001b[0;32min\u001b[0m \u001b[0mmaterias\u001b[0m\u001b[0;34m:\u001b[0m\u001b[0;34m\u001b[0m\u001b[0m\n\u001b[1;32m     97\u001b[0m                 \u001b[0;32mif\u001b[0m \u001b[0mmateria\u001b[0m \u001b[0;34m==\u001b[0m \u001b[0mindividuo\u001b[0m\u001b[0;34m[\u001b[0m\u001b[0mi\u001b[0m\u001b[0;34m]\u001b[0m\u001b[0;34m[\u001b[0m\u001b[0;36m1\u001b[0m\u001b[0;34m]\u001b[0m\u001b[0;34m:\u001b[0m\u001b[0;34m\u001b[0m\u001b[0m\n",
      "\u001b[0;31mAttributeError\u001b[0m: 'generator' object has no attribute 'next'"
     ]
    }
   ],
   "source": [
    "import versao1ex1 as v\n",
    "\n",
    "print (v.criarG1(20,10,10,10))"
   ]
  },
  {
   "cell_type": "code",
   "execution_count": 2,
   "metadata": {},
   "outputs": [
    {
     "name": "stdout",
     "output_type": "stream",
     "text": [
      "[[1, 2], [3, 4], 5]\n"
     ]
    }
   ],
   "source": [
    "listc = [[[1,2],[3,4],5],[[6,7],[8,9],10]]\n",
    "print(listc[0])"
   ]
  },
  {
   "cell_type": "code",
   "execution_count": 3,
   "metadata": {},
   "outputs": [
    {
     "name": "stdout",
     "output_type": "stream",
     "text": [
      "[['Luciana', 'TOP'], ['Nelson', 'SEG'], 210]\n"
     ]
    }
   ],
   "source": [
    "listd=[[['Luciana', 'TOP'], ['Nelson', 'SEG'], 210], [['Henrique', 'SEG'], ['Luciana', 'TOP'], 135], [['Nelson', 'SEG'], ['Henrique', 'DW2'], 240], [['Luciana', 'TOP'], ['Luciana', 'TOP'], 210], [['Henrique', 'SEG'], ['Luciana', 'TOP'], 135], 0]\n",
    "[[['Nelson', 'SEG'], ['Luciana', 'PI2'], 240], [['Luciana', 'TOP'], ['Luciana', 'TOP'], 350], [['Nelson', 'SEG'], ['Luciana', 'PI2'], 180], [['Luciana', 'TOP'], ['Luciana', 'TOP'], 350], [['Nelson', 'SEG'], ['Nelson', 'PI2'], 160], 0]\n",
    "[[['Luciana', 'TOP'], ['Mario', 'SEG'], 150], [['Mario', 'SEG'], ['Luciana', 'PI2'], 105], [['Luciana', 'TOP'], ['Luciana', 'TOP'], 210], [['Henrique', 'SEG'], ['Luciana', 'TOP'], 135], [['Nelson', 'SEG'], ['Henrique', 'DW2'], 240], 0]\n",
    "[[['Mario', 'SEG'], ['Luciana', 'PI2'], 105], [['Mario', 'PI2'], ['Luciana', 'PI2'], 100], [['Mario', 'SEG'], ['Luciana', 'PI2'], 105], [['Nelson', 'SEG'], ['Nelson', 'PI2'], 160], [['Mario', 'PI2'], ['Luciana', 'PI2'], 100], 0]\n",
    "[[['Nelson', 'SEG'], ['Nelson', 'PI2'], 160], [['Mario', 'SEG'], ['Luciana', 'PI2'], 105], [['Luciana', 'TOP'], ['Luciana', 'TOP'], 210], [['Luciana', 'TOP'], ['Luciana', 'TOP'], 210], [['Henrique', 'SEG'], ['Luciana', 'TOP'], 135], 0]\n",
    "[[['Nelson', 'SEG'], ['Luciana', 'PI2'], 240], [['Mario', 'SEG'], ['Luciana', 'DW2'], 55], [['Nelson', 'SEG'], ['Luciana', 'PI2'], 180], [['Nelson', 'SEG'], ['Luciana', 'PI2'], 240], [['Mario', 'SEG'], ['Luciana', 'PI2'], 135], 0]\n",
    "[[['Nelson', 'SEG'], ['Nelson', 'PI2'], 160], [['Nelson', 'SEG'], ['Luciana', 'DW2'], 105], [['Mario', 'SEG'], ['Luciana', 'DW2'], 55], [['Mario', 'TOP'], ['Henrique', 'SEG'], 150], [['Luciana', 'TOP'], ['Luciana', 'TOP'], 210], 0]\n",
    "[[['Luciana', 'TOP'], ['Luciana', 'TOP'], 210], [['Mario', 'SEG'], ['Luciana', 'PI2'], 105], [['Luciana', 'TOP'], ['Mario', 'PI2'], 150], [['Nelson', 'SEG'], ['Luciana', 'PI2'], 240], [['Luciana', 'TOP'], ['Mario', 'SEG'], 150], 0]\n",
    "[[['Mario', 'SEG'], ['Henrique', 'DW2'], 90], [['Luciana', 'TOP'], ['Mario', 'PI2'], 150], [['Nelson', 'SEG'], ['Nelson', 'PI2'], 160], [['Luciana', 'TOP'], ['Nelson', 'SEG'], 210], [['Mario', 'PI2'], ['Luciana', 'PI2'], 100], 0]\n",
    "[[['Nelson', 'SEG'], ['Luciana', 'PI2'], 240], [['Mario', 'TOP'], ['Henrique', 'SEG'], 150], [['Henrique', 'SEG'], ['Luciana', 'TOP'], 135], [['Mario', 'SEG'], ['Luciana', 'DW2'], 55], [['Luciana', 'TOP'], ['Luciana', 'TOP'], 200], 0]\n",
    "[[['Luciana', 'TOP'], ['Luciana', 'TOP'], 210], [['Mario', 'SEG'], ['Luciana', 'PI2'], 105], [['Luciana', 'TOP'], ['Mario', 'PI2'], 150], [['Luciana', 'TOP'], ['Luciana', 'TOP'], 210], [['Henrique', 'SEG'], ['Luciana', 'TOP'], 135], 0]\n",
    "[[['Luciana', 'TOP'], ['Nelson', 'SEG'], 210], [['Henrique', 'SEG'], ['Luciana', 'TOP'], 135], [['Nelson', 'SEG'], ['Henrique', 'DW2'], 240], [['Luciana', 'TOP'], ['Luciana', 'TOP'], 350], [['Henrique', 'SEG'], ['Luciana', 'TOP'], 135], 0]\n",
    "[[['Luciana', 'TOP'], ['Nelson', 'SEG'], 210], [['Henrique', 'SEG'], ['Luciana', 'TOP'], 135], [['Nelson', 'SEG'], ['Henrique', 'DW2'], 240], [['Mario', 'SEG'], ['Luciana', 'DW2'], 55], [['Luciana', 'TOP'], ['Luciana', 'TOP'], 200], 0]\n",
    "[[['Luciana', 'TOP'], ['Nelson', 'SEG'], 210], [['Henrique', 'SEG'], ['Luciana', 'TOP'], 135], [['Nelson', 'SEG'], ['Henrique', 'DW2'], 240], [['Luciana', 'TOP'], ['Nelson', 'SEG'], 210], [['Mario', 'SEG'], ['Henrique', 'DW2'], 90], 0]\n",
    "\n",
    "print(listd[0])\n"
   ]
  },
  {
   "cell_type": "code",
   "execution_count": 3,
   "metadata": {},
   "outputs": [
    {
     "name": "stdout",
     "output_type": "stream",
     "text": [
      "[[['Luciana', 'TOP'], ['Nelson', 'SEG']], [['Henrique', 'SEG'], ['Luciana', 'TOP']], [['Nelson', 'SEG'], ['Henrique', 'DW2']], [['Luciana', 'TOP'], ['Luciana', 'TOP']], [['Henrique', 'SEG'], ['Luciana', 'TOP']]]\n"
     ]
    }
   ],
   "source": [
    "lista=[[['Luciana', 'TOP'], ['Nelson', 'SEG'], 210], \n",
    "       [['Henrique', 'SEG'], ['Luciana', 'TOP'], 135], \n",
    "       [['Nelson', 'SEG'], ['Henrique', 'DW2'], 240], \n",
    "       [['Luciana', 'TOP'], ['Luciana', 'TOP'], 210],\n",
    "       [['Henrique', 'SEG'], ['Luciana', 'TOP'], 135],\n",
    "       0]\n",
    "del lista[-1]\n",
    "for dia in lista:\n",
    "    del dia[-1]\n",
    "print(lista)"
   ]
  },
  {
   "cell_type": "code",
   "execution_count": 9,
   "metadata": {},
   "outputs": [
    {
     "name": "stdout",
     "output_type": "stream",
     "text": [
      "['PI2', 'SEG', 'DW2', 'TOP']\n",
      "['TOP', 'SEG', 'SEG', 'TOP', 'SEG', 'DW2', 'TOP', 'TOP', 'SEG', 'TOP']\n",
      "False\n"
     ]
    }
   ],
   "source": [
    "dictCargaTurma = [\n",
    "    {\"sigla\": \"PI2\", \"cargaHoraria\": 8},\n",
    "    {\"sigla\": \"SEG\", \"cargaHoraria\": 4},\n",
    "    {\"sigla\": \"DW2\", \"cargaHoraria\": 4},\n",
    "    {\"sigla\": \"TOP\", \"cargaHoraria\": 4}\n",
    "]\n",
    "\n",
    "listDisciplinasObrigatoriasTurma =[]\n",
    "for item in dictCargaTurma:\n",
    "    listDisciplinasObrigatoriasTurma.append(item[\"sigla\"])\n",
    "print(listDisciplinasObrigatoriasTurma)\n",
    "\n",
    "individuo=[[['Luciana', 'TOP'], ['Nelson', 'SEG'], 210], \n",
    "       [['Henrique', 'SEG'], ['Luciana', 'TOP'], 135], \n",
    "       [['Nelson', 'SEG'], ['Henrique', 'DW2'], 240], \n",
    "       [['Luciana', 'TOP'], ['Luciana', 'TOP'], 210],\n",
    "       [['Henrique', 'SEG'], ['Luciana', 'TOP'], 135],\n",
    "       0]\n",
    "\n",
    "disciplinasIndividuo = []\n",
    "del individuo[-1]    \n",
    "for dia in individuo:\n",
    "    del dia[-1]\n",
    "    for gene in dia:           \n",
    "        disciplinasIndividuo.append(gene[1])    \n",
    "    \n",
    "print(disciplinasIndividuo)\n",
    "print(set(listDisciplinasObrigatoriasTurma).issubset(disciplinasIndividuo))"
   ]
  },
  {
   "cell_type": "code",
   "execution_count": 10,
   "metadata": {},
   "outputs": [
    {
     "name": "stdout",
     "output_type": "stream",
     "text": [
      "[1, 2, 3]\n",
      "[1, 2, 3]\n",
      "[1, 2, 3, 5]\n"
     ]
    }
   ],
   "source": [
    "lista1 =[1,2,3]\n",
    "lista2 = lista1[:]\n",
    "\n",
    "print(lista2)\n",
    "\n",
    "lista1.append(5)\n",
    "print(lista2)\n",
    "print(lista1)"
   ]
  },
  {
   "cell_type": "code",
   "execution_count": 1,
   "metadata": {},
   "outputs": [
    {
     "data": {
      "text/plain": [
       "[4, 4, 2, 1, 2]"
      ]
     },
     "execution_count": 1,
     "metadata": {},
     "output_type": "execute_result"
    }
   ],
   "source": [
    "a = [1,1,1,1,2,2,2,2,3,3,4,5,5]\n",
    "from itertools import groupby\n",
    "[len(list(group)) for key, group in groupby(a)]"
   ]
  },
  {
   "cell_type": "code",
   "execution_count": 17,
   "metadata": {},
   "outputs": [
    {
     "name": "stdout",
     "output_type": "stream",
     "text": [
      "{'DW2': 8, 'TOP': 2, 'SEG': 4, 'PI2': 6}\n"
     ]
    }
   ],
   "source": [
    "\n",
    "lista = ['DW2', 'TOP', 'DW2', 'SEG', 'DW2', 'SEG', 'DW2', 'PI2', 'PI2', 'PI2']\n",
    "aulasDadas = {x:lista.count(x)*2 for x in lista}\n",
    "a = lista[1]\n",
    "print(aulasDadas)\n"
   ]
  },
  {
   "cell_type": "code",
   "execution_count": 25,
   "metadata": {},
   "outputs": [
    {
     "name": "stdout",
     "output_type": "stream",
     "text": [
      "DW2\n",
      "4\n",
      "8\n",
      "diferente\n",
      "TOP\n",
      "4\n",
      "2\n",
      "diferente\n",
      "SEG\n",
      "4\n",
      "4\n",
      "igual\n",
      "PI2\n",
      "8\n",
      "6\n",
      "diferente\n"
     ]
    }
   ],
   "source": [
    "aulasDadas = {'DW2': 8, 'TOP': 2, 'SEG': 4, 'PI2': 6}\n",
    "\n",
    "dictDisciplinas = [\n",
    "    {\"sigla\": \"PI2\", \"cargaHoraria\": 8},\n",
    "    {\"sigla\": \"SEG\", \"cargaHoraria\": 4},\n",
    "    {\"sigla\": \"DW2\", \"cargaHoraria\": 4},\n",
    "    {\"sigla\": \"TOP\", \"cargaHoraria\": 4}  \n",
    "]\n",
    "\n",
    "cargaHorariaCerta = True\n",
    "#materias=(item[\"materias\"] for item in dictProfessores if item[\"nome\"] == individuo[i][0]).next()\n",
    "for disc in aulasDadas:\n",
    "    for item in dictDisciplinas:\n",
    "        if item[\"sigla\"]==disc:\n",
    "            print(disc)\n",
    "            print(item[\"cargaHoraria\"])\n",
    "            print(aulasDadas[disc])\n",
    "            if item[\"cargaHoraria\"]!= aulasDadas[disc]:\n",
    "                print(\"diferente\")\n",
    "            else:\n",
    "                print(\"igual\")"
   ]
  },
  {
   "cell_type": "code",
   "execution_count": 29,
   "metadata": {},
   "outputs": [
    {
     "name": "stdout",
     "output_type": "stream",
     "text": [
      "105\n",
      "120\n",
      "30\n",
      "105\n",
      "165\n"
     ]
    }
   ],
   "source": [
    "lista = [[['Nelson', 'TOP'], ['Henrique', 'DW2'], 105], \n",
    "         [['Nelson', 'SEG'], ['Mario', 'TOP'], 120], \n",
    "         [['Mario', 'SEG'], ['Henrique', 'PI2'], 30], \n",
    "         [['Nelson', 'TOP'], ['Henrique', 'DW2'], 105], \n",
    "         [['Henrique', 'DW2'], ['Nelson', 'TOP'], 165],\n",
    "         970]\n",
    "\n",
    "for i in range(5):\n",
    "    print(lista[i][-1])"
   ]
  },
  {
   "cell_type": "code",
   "execution_count": null,
   "metadata": {
    "collapsed": true
   },
   "outputs": [],
   "source": []
  },
  {
   "cell_type": "code",
   "execution_count": null,
   "metadata": {
    "collapsed": true
   },
   "outputs": [],
   "source": []
  },
  {
   "cell_type": "code",
   "execution_count": null,
   "metadata": {
    "collapsed": true
   },
   "outputs": [],
   "source": []
  },
  {
   "cell_type": "code",
   "execution_count": null,
   "metadata": {
    "collapsed": true
   },
   "outputs": [],
   "source": []
  },
  {
   "cell_type": "code",
   "execution_count": null,
   "metadata": {
    "collapsed": true
   },
   "outputs": [],
   "source": []
  },
  {
   "cell_type": "code",
   "execution_count": null,
   "metadata": {
    "collapsed": true
   },
   "outputs": [],
   "source": []
  },
  {
   "cell_type": "code",
   "execution_count": null,
   "metadata": {
    "collapsed": true
   },
   "outputs": [],
   "source": []
  },
  {
   "cell_type": "code",
   "execution_count": null,
   "metadata": {
    "collapsed": true
   },
   "outputs": [],
   "source": []
  },
  {
   "cell_type": "code",
   "execution_count": null,
   "metadata": {
    "collapsed": true
   },
   "outputs": [],
   "source": []
  },
  {
   "cell_type": "code",
   "execution_count": null,
   "metadata": {
    "collapsed": true
   },
   "outputs": [],
   "source": []
  },
  {
   "cell_type": "code",
   "execution_count": null,
   "metadata": {
    "collapsed": true
   },
   "outputs": [],
   "source": []
  },
  {
   "cell_type": "code",
   "execution_count": null,
   "metadata": {
    "collapsed": true
   },
   "outputs": [],
   "source": []
  },
  {
   "cell_type": "code",
   "execution_count": null,
   "metadata": {
    "collapsed": true
   },
   "outputs": [],
   "source": []
  },
  {
   "cell_type": "code",
   "execution_count": null,
   "metadata": {
    "collapsed": true
   },
   "outputs": [],
   "source": []
  },
  {
   "cell_type": "code",
   "execution_count": null,
   "metadata": {
    "collapsed": true
   },
   "outputs": [],
   "source": []
  },
  {
   "cell_type": "code",
   "execution_count": null,
   "metadata": {
    "collapsed": true
   },
   "outputs": [],
   "source": []
  },
  {
   "cell_type": "code",
   "execution_count": null,
   "metadata": {
    "collapsed": true
   },
   "outputs": [],
   "source": []
  },
  {
   "cell_type": "code",
   "execution_count": 5,
   "metadata": {},
   "outputs": [
    {
     "name": "stdout",
     "output_type": "stream",
     "text": [
      "6\n",
      "-6\n"
     ]
    }
   ],
   "source": [
    "from functools import reduce\n",
    "\n",
    "def x(i):\n",
    "    for k in i:\n",
    "        print(reduce(lambda x,y: x+y,k))\n",
    "\n",
    "x([[1,2,3],[-1,-2,-3]])"
   ]
  },
  {
   "cell_type": "code",
   "execution_count": null,
   "metadata": {
    "collapsed": true
   },
   "outputs": [],
   "source": []
  }
 ],
 "metadata": {
  "kernelspec": {
   "display_name": "Python 3",
   "language": "python",
   "name": "python3"
  },
  "language_info": {
   "codemirror_mode": {
    "name": "ipython",
    "version": 3
   },
   "file_extension": ".py",
   "mimetype": "text/x-python",
   "name": "python",
   "nbconvert_exporter": "python",
   "pygments_lexer": "ipython3",
   "version": "3.5.2"
  }
 },
 "nbformat": 4,
 "nbformat_minor": 2
}
